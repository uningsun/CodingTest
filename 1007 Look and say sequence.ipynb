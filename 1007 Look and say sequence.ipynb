{
 "cells": [
  {
   "cell_type": "markdown",
   "metadata": {},
   "source": [
    "19/10/07\n",
    "\n",
    "매일프로그래밍 - 코딩테스트\n",
    "\n",
    "---\n",
    "\n",
    "\"Look and say\" sequence (보고 말하는 수열)은 다음과 같습니다.\n",
    "\n",
    "---\n",
    "\n",
    "1 - 1개의 1\n",
    "\n",
    "11 - 2개의 1\n",
    "\n",
    "21 - 1개의 2, 1개의 1\n",
    "\n",
    "1211 - 1개의 1, 1개의 2, 2개의 1\n",
    "\n",
    "111221 - ...\n",
    "\n",
    "\n",
    "\n",
    "위와 같이 수열의 N 번째 수는 N-1번째 수의 조합을 풀어놓은 수 입니다.\n",
    "\n",
    "---\n",
    "\n",
    "정수 N이 주어졌을때, \"Look and say\" 수열의 N번째 수까지 프린트 하시오.\n",
    "\n",
    "\n",
    "\n",
    "Given an integer N, print the first N numbers in \"look and say\" sequence.\n",
    "\n",
    " "
   ]
  },
  {
   "cell_type": "code",
   "execution_count": 1,
   "metadata": {},
   "outputs": [],
   "source": [
    "def lookandsay(num) :\n",
    "    i=0\n",
    "    strnum=str(num)\n",
    "    \n",
    "    while (i<num) :\n",
    "        tempind=[]\n",
    "        outnum=''\n",
    "        if len(strnum)==1 :       # 한자리 정수를 먼저 look and say sequence로 변경\n",
    "            outnum+='1'\n",
    "            outnum+=strnum[0]\n",
    "        \n",
    "        else :\n",
    "            for k in range(0,len(strnum)-1) :\n",
    "                if strnum[k] != strnum[k+1] :    # look and say sequence에서 숫자가 달라지는 지점 index 가져오기\n",
    "                    tempind.append(k+1)\n",
    "\n",
    "            # index 간 subtract를 통해 연속된 숫자의 개수 가져오려고 함.\n",
    "            tempind.append(len(strnum))         # 마지막 index 관련 계산 위해 전체 길이 원소 추가\n",
    "            \n",
    "            outnum+=str(tempind[0]) #subtract 계산을 적용하지 않아도 적용 가능한 처음 부분 추가\n",
    "            outnum+=strnum[0]\n",
    "\n",
    "            for j in range(0,len(tempind)-1) : \n",
    "                outnum+=str(tempind[j+1]-tempind[j]) # 연속된 숫자의 개수 계산\n",
    "                outnum+=strnum[tempind[j]]           # 해당 숫자 정보 가져오기\n",
    "                   \n",
    "        print(outnum)\n",
    "        strnum=outnum\n",
    "        i+=1\n",
    " \n"
   ]
  },
  {
   "cell_type": "code",
   "execution_count": 2,
   "metadata": {},
   "outputs": [
    {
     "name": "stdout",
     "output_type": "stream",
     "text": [
      "12\n",
      "1112\n"
     ]
    }
   ],
   "source": [
    "lookandsay(2)"
   ]
  },
  {
   "cell_type": "code",
   "execution_count": 3,
   "metadata": {},
   "outputs": [
    {
     "name": "stdout",
     "output_type": "stream",
     "text": [
      "13\n",
      "1113\n",
      "3113\n"
     ]
    }
   ],
   "source": [
    "lookandsay(3)"
   ]
  },
  {
   "cell_type": "code",
   "execution_count": 4,
   "metadata": {},
   "outputs": [
    {
     "name": "stdout",
     "output_type": "stream",
     "text": [
      "14\n",
      "1114\n",
      "3114\n",
      "132114\n"
     ]
    }
   ],
   "source": [
    "lookandsay(4)"
   ]
  },
  {
   "cell_type": "code",
   "execution_count": 5,
   "metadata": {},
   "outputs": [
    {
     "name": "stdout",
     "output_type": "stream",
     "text": [
      "15\n",
      "1115\n",
      "3115\n",
      "132115\n",
      "1113122115\n"
     ]
    }
   ],
   "source": [
    "lookandsay(5)"
   ]
  },
  {
   "cell_type": "code",
   "execution_count": 6,
   "metadata": {},
   "outputs": [
    {
     "name": "stdout",
     "output_type": "stream",
     "text": [
      "1110\n",
      "3110\n",
      "132110\n",
      "1113122110\n",
      "311311222110\n",
      "13211321322110\n",
      "1113122113121113222110\n",
      "31131122211311123113322110\n",
      "132113213221133112132123222110\n",
      "11131221131211132221232112111312111213322110\n"
     ]
    }
   ],
   "source": [
    "lookandsay(10)"
   ]
  }
 ],
 "metadata": {
  "kernelspec": {
   "display_name": "Python 3",
   "language": "python",
   "name": "python3"
  },
  "language_info": {
   "codemirror_mode": {
    "name": "ipython",
    "version": 3
   },
   "file_extension": ".py",
   "mimetype": "text/x-python",
   "name": "python",
   "nbconvert_exporter": "python",
   "pygments_lexer": "ipython3",
   "version": "3.6.8"
  }
 },
 "nbformat": 4,
 "nbformat_minor": 2
}
