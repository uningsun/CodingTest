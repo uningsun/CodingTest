{
 "cells": [
  {
   "cell_type": "markdown",
   "metadata": {},
   "source": [
    "09/29\n",
    "\n",
    "\n",
    "매일프로그래밍 - 코딩테스트\n",
    "\n",
    "정렬되지 않은 정수 배열과 정수 S가 주어졌을 때, 합이 S가 되는 정수 배열 내의 두 수를 찾으시오.\n",
    "\n",
    " \n",
    "\n",
    "Input: 정수 배열 = [8, 7, 2, 5, 3, 1], S = 10\n",
    "\n",
    "Output: 인덱스 0 과 2 (8 + 2) 또는 인덱스 1 과 4 (7 + 3)"
   ]
  },
  {
   "cell_type": "code",
   "execution_count": 4,
   "metadata": {},
   "outputs": [],
   "source": [
    "def sum_sort(lista,S) :\n",
    "    answera=[]\n",
    "    for i in range(len(lista)) :\n",
    "        for j in range(i+1,len(lista)) :\n",
    "            if lista[i]+lista[j]==S :\n",
    "                answera.append((i,j))\n",
    "    \n",
    "    for index, i in enumerate(answera) :\n",
    "        if index != 0 :\n",
    "            print(\"또는\", end=\" \")\n",
    "        \n",
    "        print(\"인덱스 {0:d} 과 {1:d} ({2:d} + {3:d})\".format(i[0], i[1], lista[i[0]], lista[i[1]]),end=\" \")\n",
    "    "
   ]
  },
  {
   "cell_type": "code",
   "execution_count": 5,
   "metadata": {},
   "outputs": [
    {
     "name": "stdout",
     "output_type": "stream",
     "text": [
      "인덱스 0 과 2 (8 + 2) 또는 인덱스 1 과 4 (7 + 3) "
     ]
    }
   ],
   "source": [
    "sum_sort([8,7,2,5,3,1],S=10)"
   ]
  },
  {
   "cell_type": "code",
   "execution_count": 7,
   "metadata": {},
   "outputs": [
    {
     "name": "stdout",
     "output_type": "stream",
     "text": [
      "인덱스 0 과 8 (1 + 9) 또는 인덱스 1 과 7 (2 + 8) 또는 인덱스 2 과 6 (3 + 7) 또는 인덱스 3 과 5 (4 + 6) 또는 인덱스 4 과 9 (5 + 5) "
     ]
    }
   ],
   "source": [
    "sum_sort([1,2,3,4,5,6,7,8,9,5],10)"
   ]
  }
 ],
 "metadata": {
  "kernelspec": {
   "display_name": "Python 3",
   "language": "python",
   "name": "python3"
  },
  "language_info": {
   "codemirror_mode": {
    "name": "ipython",
    "version": 3
   },
   "file_extension": ".py",
   "mimetype": "text/x-python",
   "name": "python",
   "nbconvert_exporter": "python",
   "pygments_lexer": "ipython3",
   "version": "3.6.8"
  }
 },
 "nbformat": 4,
 "nbformat_minor": 2
}
